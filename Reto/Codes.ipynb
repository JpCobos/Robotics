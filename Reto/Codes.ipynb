{
 "cells": [
  {
   "cell_type": "markdown",
   "metadata": {},
   "source": [
    "# 1. Kinematic Model for a non-holomonic mobile robot"
   ]
  },
  {
   "cell_type": "code",
   "execution_count": 1,
   "metadata": {},
   "outputs": [],
   "source": [
    "def calculate_wheel_velocities(v, omega, r, l):\n",
    "    \"\"\"\n",
    "    Calculate the wheel angular velocities for a differential-drive robot.\n",
    "\n",
    "    Parameters:\n",
    "    v (float): Linear velocity of the robot (m/s)\n",
    "    omega (float): Angular velocity of the robot (rad/s)\n",
    "    r (float): Radius of the wheels (m)\n",
    "    l (float): Distance between the two wheels (m)\n",
    "\n",
    "    Returns:\n",
    "    tuple: (omega_r, omega_l), the angular velocities of the right and left wheels (rad/s)\n",
    "    \"\"\"\n",
    "    # Calculate the right and left wheel angular velocities\n",
    "    omega_r = (v / r) + (l * omega) / (2 * r)\n",
    "    omega_l = (v / r) - (l * omega) / (2 * r)\n",
    "    \n",
    "    return omega_r, omega_l\n",
    "\n",
    "\n",
    "\n",
    "\n"
   ]
  },
  {
   "cell_type": "code",
   "execution_count": 2,
   "metadata": {},
   "outputs": [],
   "source": [
    "# Example usage\n",
    "v = 1.0       # Linear velocity in m/s\n",
    "omega = 0.5   # Angular velocity in rad/s\n",
    "r = 0.1       # Wheel radius in meters\n",
    "l = 0.5       # Distance between wheels in meters"
   ]
  },
  {
   "cell_type": "code",
   "execution_count": 3,
   "metadata": {},
   "outputs": [],
   "source": [
    "omega_r, omega_l = calculate_wheel_velocities(v, omega, r, l)"
   ]
  },
  {
   "cell_type": "code",
   "execution_count": 4,
   "metadata": {},
   "outputs": [
    {
     "name": "stdout",
     "output_type": "stream",
     "text": [
      "Right wheel angular velocity (omega_r): 11.25 rad/s\n",
      "Left wheel angular velocity (omega_l): 8.75 rad/s\n"
     ]
    }
   ],
   "source": [
    "\n",
    "print(f\"Right wheel angular velocity (omega_r): {omega_r} rad/s\")\n",
    "print(f\"Left wheel angular velocity (omega_l): {omega_l} rad/s\")"
   ]
  },
  {
   "cell_type": "code",
   "execution_count": 5,
   "metadata": {},
   "outputs": [],
   "source": [
    "import numpy as np"
   ]
  },
  {
   "cell_type": "code",
   "execution_count": 6,
   "metadata": {},
   "outputs": [],
   "source": [
    "xi, yi, zi = 0,0,0\n",
    "vel_lin = 1\n",
    "vel_ang = 1\n",
    "smp_time = .1"
   ]
  },
  {
   "cell_type": "code",
   "execution_count": 7,
   "metadata": {},
   "outputs": [],
   "source": [
    "initial_covariance_matrix=[\n",
    "                  [ 0, 0, 0],\n",
    "                  [ 0, 0, 0],\n",
    "                  [ 0, 0, 0]\n",
    "                  ]\n",
    "\n",
    "motion_covariance_matrix=[\n",
    "                  [ 0.50, 0.01, 0.01],\n",
    "                  [ 0.01, 0.50, 0.01],\n",
    "                  [ 0.01, 0.01, 0.20]\n",
    "                  ]"
   ]
  },
  {
   "cell_type": "code",
   "execution_count": 8,
   "metadata": {},
   "outputs": [],
   "source": [
    "u1 = [\n",
    "    [xi + smp_time*vel_lin * np.cos(xi)],\n",
    "    [yi + smp_time*vel_lin * np.sin(yi)],\n",
    "    [zi + smp_time*vel_ang]]"
   ]
  },
  {
   "cell_type": "code",
   "execution_count": 22,
   "metadata": {},
   "outputs": [],
   "source": [
    "h1 = [\n",
    "    [ 1, 0, -1*smp_time*vel_lin * np.sin(xi)],\n",
    "    [ 0, 1,  smp_time*vel_lin * np.cos(yi)],\n",
    "    [ 0, 0, 1]]"
   ]
  },
  {
   "cell_type": "code",
   "execution_count": 26,
   "metadata": {},
   "outputs": [],
   "source": [
    "E1 = np.array(h1) * np.array(initial_covariance_matrix) * np.transpose(np.array(h1)) + np.array(motion_covariance_matrix)"
   ]
  },
  {
   "cell_type": "code",
   "execution_count": 27,
   "metadata": {},
   "outputs": [
    {
     "name": "stdout",
     "output_type": "stream",
     "text": [
      "[[0.1], [0.0], [0.1]]\n",
      "[[1, 0, -0.0], [0, 1, 0.1], [0, 0, 1]]\n",
      "[[0.5  0.01 0.01]\n",
      " [0.01 0.5  0.01]\n",
      " [0.01 0.01 0.2 ]]\n"
     ]
    }
   ],
   "source": [
    "print(u1)\n",
    "print(h1)\n",
    "print(E1)"
   ]
  },
  {
   "cell_type": "code",
   "execution_count": null,
   "metadata": {},
   "outputs": [],
   "source": []
  }
 ],
 "metadata": {
  "kernelspec": {
   "display_name": "Python 3",
   "language": "python",
   "name": "python3"
  },
  "language_info": {
   "codemirror_mode": {
    "name": "ipython",
    "version": 3
   },
   "file_extension": ".py",
   "mimetype": "text/x-python",
   "name": "python",
   "nbconvert_exporter": "python",
   "pygments_lexer": "ipython3",
   "version": "3.10.12"
  }
 },
 "nbformat": 4,
 "nbformat_minor": 2
}
